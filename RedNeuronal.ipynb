{
 "cells": [
  {
   "cell_type": "markdown",
   "metadata": {},
   "source": [
    "## Energía Inteligente: Detección y clasificación de fallas en el sistema de transmisión de energía eléctrica utilizando redes neuronales\n",
    "\n",
    "- Estela Monserrat Arriaga Santana\n",
    "\n",
    "- Julián Rosas Scull"
   ]
  },
  {
   "cell_type": "markdown",
   "metadata": {},
   "source": [
    "## EDA (Exploratory Data Analysis)"
   ]
  },
  {
   "cell_type": "code",
   "execution_count": 2,
   "metadata": {},
   "outputs": [],
   "source": [
    "# Sirve para que no salgan los warnings de tipo FutureWarning, para algunas graficas de matplotlib\n",
    "import warnings\n",
    "warnings.filterwarnings(\"ignore\", category=FutureWarning)"
   ]
  },
  {
   "cell_type": "code",
   "execution_count": 1,
   "metadata": {},
   "outputs": [],
   "source": [
    "# pandas se utiliza para manipulación de datos y lectura de los datos\n",
    "import pandas as pd"
   ]
  },
  {
   "cell_type": "code",
   "execution_count": 3,
   "metadata": {},
   "outputs": [
    {
     "data": {
      "text/html": [
       "<div>\n",
       "<style scoped>\n",
       "    .dataframe tbody tr th:only-of-type {\n",
       "        vertical-align: middle;\n",
       "    }\n",
       "\n",
       "    .dataframe tbody tr th {\n",
       "        vertical-align: top;\n",
       "    }\n",
       "\n",
       "    .dataframe thead th {\n",
       "        text-align: right;\n",
       "    }\n",
       "</style>\n",
       "<table border=\"1\" class=\"dataframe\">\n",
       "  <thead>\n",
       "    <tr style=\"text-align: right;\">\n",
       "      <th></th>\n",
       "      <th>G</th>\n",
       "      <th>C</th>\n",
       "      <th>B</th>\n",
       "      <th>A</th>\n",
       "      <th>Ia</th>\n",
       "      <th>Ib</th>\n",
       "      <th>Ic</th>\n",
       "      <th>Va</th>\n",
       "      <th>Vb</th>\n",
       "      <th>Vc</th>\n",
       "    </tr>\n",
       "  </thead>\n",
       "  <tbody>\n",
       "    <tr>\n",
       "      <th>0</th>\n",
       "      <td>1</td>\n",
       "      <td>0</td>\n",
       "      <td>0</td>\n",
       "      <td>1</td>\n",
       "      <td>-151.291812</td>\n",
       "      <td>-9.677452</td>\n",
       "      <td>85.800162</td>\n",
       "      <td>0.400750</td>\n",
       "      <td>-0.132935</td>\n",
       "      <td>-0.267815</td>\n",
       "    </tr>\n",
       "    <tr>\n",
       "      <th>1</th>\n",
       "      <td>1</td>\n",
       "      <td>0</td>\n",
       "      <td>0</td>\n",
       "      <td>1</td>\n",
       "      <td>-336.186183</td>\n",
       "      <td>-76.283262</td>\n",
       "      <td>18.328897</td>\n",
       "      <td>0.312732</td>\n",
       "      <td>-0.123633</td>\n",
       "      <td>-0.189099</td>\n",
       "    </tr>\n",
       "    <tr>\n",
       "      <th>2</th>\n",
       "      <td>1</td>\n",
       "      <td>0</td>\n",
       "      <td>0</td>\n",
       "      <td>1</td>\n",
       "      <td>-502.891583</td>\n",
       "      <td>-174.648023</td>\n",
       "      <td>-80.924663</td>\n",
       "      <td>0.265728</td>\n",
       "      <td>-0.114301</td>\n",
       "      <td>-0.151428</td>\n",
       "    </tr>\n",
       "    <tr>\n",
       "      <th>3</th>\n",
       "      <td>1</td>\n",
       "      <td>0</td>\n",
       "      <td>0</td>\n",
       "      <td>1</td>\n",
       "      <td>-593.941905</td>\n",
       "      <td>-217.703359</td>\n",
       "      <td>-124.891924</td>\n",
       "      <td>0.235511</td>\n",
       "      <td>-0.104940</td>\n",
       "      <td>-0.130570</td>\n",
       "    </tr>\n",
       "    <tr>\n",
       "      <th>4</th>\n",
       "      <td>1</td>\n",
       "      <td>0</td>\n",
       "      <td>0</td>\n",
       "      <td>1</td>\n",
       "      <td>-643.663617</td>\n",
       "      <td>-224.159427</td>\n",
       "      <td>-132.282815</td>\n",
       "      <td>0.209537</td>\n",
       "      <td>-0.095554</td>\n",
       "      <td>-0.113983</td>\n",
       "    </tr>\n",
       "  </tbody>\n",
       "</table>\n",
       "</div>"
      ],
      "text/plain": [
       "   G  C  B  A          Ia          Ib          Ic        Va        Vb  \\\n",
       "0  1  0  0  1 -151.291812   -9.677452   85.800162  0.400750 -0.132935   \n",
       "1  1  0  0  1 -336.186183  -76.283262   18.328897  0.312732 -0.123633   \n",
       "2  1  0  0  1 -502.891583 -174.648023  -80.924663  0.265728 -0.114301   \n",
       "3  1  0  0  1 -593.941905 -217.703359 -124.891924  0.235511 -0.104940   \n",
       "4  1  0  0  1 -643.663617 -224.159427 -132.282815  0.209537 -0.095554   \n",
       "\n",
       "         Vc  \n",
       "0 -0.267815  \n",
       "1 -0.189099  \n",
       "2 -0.151428  \n",
       "3 -0.130570  \n",
       "4 -0.113983  "
      ]
     },
     "execution_count": 3,
     "metadata": {},
     "output_type": "execute_result"
    }
   ],
   "source": [
    "# Cargar los datos\n",
    "df = pd.read_csv(\"./data/classData.csv\")\n",
    "# Mostar los primeros 5 registros\n",
    "df.head()"
   ]
  },
  {
   "cell_type": "markdown",
   "metadata": {},
   "source": [
    "## Análisis de la base"
   ]
  },
  {
   "cell_type": "code",
   "execution_count": 74,
   "metadata": {},
   "outputs": [
    {
     "name": "stdout",
     "output_type": "stream",
     "text": [
      "Cantidad total de observaciones:  7861\n"
     ]
    }
   ],
   "source": [
    "# Cantidad total de observaciones\n",
    "print(\"Cantidad total de observaciones: \", df.shape[0])\n"
   ]
  },
  {
   "cell_type": "markdown",
   "metadata": {},
   "source": [
    "## Columnas e instancias"
   ]
  },
  {
   "cell_type": "code",
   "execution_count": 4,
   "metadata": {},
   "outputs": [
    {
     "name": "stdout",
     "output_type": "stream",
     "text": [
      "Cantidad de columnas: 10\n",
      "Cantidad de instancias: 7861\n"
     ]
    },
    {
     "data": {
      "text/plain": [
       "G       int64\n",
       "C       int64\n",
       "B       int64\n",
       "A       int64\n",
       "Ia    float64\n",
       "Ib    float64\n",
       "Ic    float64\n",
       "Va    float64\n",
       "Vb    float64\n",
       "Vc    float64\n",
       "dtype: object"
      ]
     },
     "execution_count": 4,
     "metadata": {},
     "output_type": "execute_result"
    }
   ],
   "source": [
    "# Cantidad de columnas e instancias\n",
    "num_columns = df.shape[1]\n",
    "num_instances = df.shape[0]\n",
    "print(f\"Cantidad de columnas: {num_columns}\")\n",
    "print(f\"Cantidad de instancias: {num_instances}\")\n",
    "\n",
    "# Tipo de dato de cada columna\n",
    "data_types = df.dtypes\n",
    "data_types"
   ]
  },
  {
   "cell_type": "markdown",
   "metadata": {},
   "source": [
    "## Cantidad de columnas por tipo de dato"
   ]
  },
  {
   "cell_type": "code",
   "execution_count": 76,
   "metadata": {},
   "outputs": [
    {
     "data": {
      "text/plain": [
       "float64    6\n",
       "int64      4\n",
       "Name: count, dtype: int64"
      ]
     },
     "execution_count": 76,
     "metadata": {},
     "output_type": "execute_result"
    }
   ],
   "source": [
    "# Cantidad de columnas por tipo de dato\n",
    "data_types.value_counts()"
   ]
  },
  {
   "cell_type": "markdown",
   "metadata": {},
   "source": [
    "Nuestras columnas dependen de 2 tipos de datos, enteros y flotantes. Por lo que va a hacer crucial para la manipulación de los datos convertir los tipos enteros a tipos flotantes. Esto para comparar variables objetivos, etc."
   ]
  },
  {
   "cell_type": "markdown",
   "metadata": {},
   "source": [
    "## Cantidad de Columnas e Instancias y Tipo de Dato de Cada Columna"
   ]
  },
  {
   "cell_type": "code",
   "execution_count": 77,
   "metadata": {},
   "outputs": [
    {
     "data": {
      "image/png": "[encoded data removed]",
      "text/plain": [
       "<Figure size 1000x600 with 1 Axes>"
      ]
     },
     "metadata": {},
     "output_type": "display_data"
    }
   ],
   "source": [
    "import matplotlib.pyplot as plt\n",
    "import seaborn as sns\n",
    "\n",
    "def classify_fault(row):\n",
    "    G, C, B, A = row['G'], row['C'], row['B'], row['A']\n",
    "    if (G, C, B, A) == (0, 0, 0, 0): \n",
    "        return 'No Fault'\n",
    "    elif (G, C, B, A) == (1, 0, 0, 1): \n",
    "        return 'LG fault'\n",
    "    elif (G, C, B, A) == (0, 0, 1, 1): \n",
    "        return 'LL fault'\n",
    "    elif (G, C, B, A) == (1, 0, 1, 1): \n",
    "        return 'LLG Fault'\n",
    "    elif (G, C, B, A) == (0, 1, 1, 1): \n",
    "        return 'LLL Fault'\n",
    "    elif (G, C, B, A) == (1, 1, 1, 1):\n",
    "        return 'LLLG Fault'\n",
    "    elif (G,C,B,A) == (0,1,1,0):\n",
    "        return 'Fault in B and C'\n",
    "\n",
    "# Apply this function to each row\n",
    "df['Fault Type'] = df.apply(classify_fault, axis=1)\n",
    "# Count the occurrences of each fault type\n",
    "fault_counts = df['Fault Type'].value_counts()\n",
    "\n",
    "# Create a bar chart\n",
    "plt.figure(figsize=(10, 6))\n",
    "fault_counts.plot(kind='bar', color='skyblue')\n",
    "plt.title('Frequency of Each Fault Type')\n",
    "plt.xlabel('Fault Type')\n",
    "plt.ylabel('Frequency')\n",
    "plt.xticks(rotation=45)\n",
    "plt.grid(True)\n",
    "\n",
    "plt.show()"
   ]
  },
  {
   "cell_type": "markdown",
   "metadata": {},
   "source": [
    "Como podemos ver hay una gran diferencia entre la distribucion de líneas de transmisión que no tuvieron falla, que las que si tuvieron en sus diversas fases. Siendo así, una diferencia del mas del doble entre ellas. Notemos de igual manera que las que si tuvieron error en alguna de sus fases estan bien balanceadas, variando en aproximadamente ~100 cada una.\n",
    "\n",
    "Así mismo, existe una configuración la cual no etsa siendo considerada en el dataset pero que nosotros la ponemos, y es la de (0,1,1,0), la cual indica que hubo una falla en la fase B y C. \n",
    "\n",
    "Estos dos problemas son el inicio de nuestra limpieza de datos, ya que nos indica primeramente que hay que realizar una estratificación entre la clase que no hubo falla y las que si, y que la configuración (0,1,1,0) según el dataset no es válida, por lo que hay que escoger si investigar más del tema y el porqué no es válida o si solo no fue considerada, o bien omitir todos los ejemplares con esta configuración."
   ]
  },
  {
   "cell_type": "markdown",
   "metadata": {},
   "source": [
    "## Identificación de datos faltantes"
   ]
  },
  {
   "cell_type": "code",
   "execution_count": 78,
   "metadata": {},
   "outputs": [
    {
     "data": {
      "image/png": "[encoded data removed]",
      "text/plain": [
       "<Figure size 1600x2000 with 1 Axes>"
      ]
     },
     "metadata": {},
     "output_type": "display_data"
    }
   ],
   "source": [
    "import matplotlib.patches as mpatches\n",
    "\n",
    "# Mapa de calor invertido con todas las columnas y leyenda\n",
    "plt.figure(figsize=(16, 20))\n",
    "sns.heatmap(df.isnull().transpose(), cbar=False, cmap=\"binary_r\", yticklabels=True)\n",
    "plt.title(\"Mapa de Calor de Valores Faltantes\")\n",
    "plt.xlabel(\"Índices\")\n",
    "plt.ylabel(\"Columnas\")\n",
    "\n",
    "# Añadir leyenda\n",
    "legend_labels = [\n",
    "    mpatches.Patch(color=\"white\", label=\"Faltantes\"),\n",
    "    mpatches.Patch(color=\"black\", label=\"Presentes\"),\n",
    "]\n",
    "plt.legend(handles=legend_labels, loc=\"upper right\", bbox_to_anchor=(1.12, 1))\n",
    "plt.show()"
   ]
  },
  {
   "cell_type": "markdown",
   "metadata": {},
   "source": [
    "Considerando la información de arriba, podemos notar que no existen los valores nulos.\n",
    "No obstante, este enfoque visual sirve principalmente como una inspección general. Para un análisis más detallado de los datos faltantes, es recomendable emplear otras herramientas específicas."
   ]
  },
  {
   "cell_type": "code",
   "execution_count": 79,
   "metadata": {},
   "outputs": [
    {
     "name": "stdout",
     "output_type": "stream",
     "text": [
      "G             0\n",
      "C             0\n",
      "B             0\n",
      "A             0\n",
      "Ia            0\n",
      "Ib            0\n",
      "Ic            0\n",
      "Va            0\n",
      "Vb            0\n",
      "Vc            0\n",
      "Fault Type    0\n",
      "dtype: int64\n"
     ]
    }
   ],
   "source": [
    "# Cantidad de valores faltantes por columna\n",
    "missing_values = df.isnull().sum()\n",
    "# Imprimir cantidad de valores faltantes\n",
    "print(missing_values)"
   ]
  },
  {
   "cell_type": "markdown",
   "metadata": {},
   "source": [
    "# Rango de columnas\n",
    "\n"
   ]
  },
  {
   "cell_type": "code",
   "execution_count": 80,
   "metadata": {},
   "outputs": [
    {
     "data": {
      "text/html": [
       "<div>\n",
       "<style scoped>\n",
       "    .dataframe tbody tr th:only-of-type {\n",
       "        vertical-align: middle;\n",
       "    }\n",
       "\n",
       "    .dataframe tbody tr th {\n",
       "        vertical-align: top;\n",
       "    }\n",
       "\n",
       "    .dataframe thead th {\n",
       "        text-align: right;\n",
       "    }\n",
       "</style>\n",
       "<table border=\"1\" class=\"dataframe\">\n",
       "  <thead>\n",
       "    <tr style=\"text-align: right;\">\n",
       "      <th></th>\n",
       "      <th>G</th>\n",
       "      <th>C</th>\n",
       "      <th>B</th>\n",
       "      <th>A</th>\n",
       "      <th>Ia</th>\n",
       "      <th>Ib</th>\n",
       "      <th>Ic</th>\n",
       "      <th>Va</th>\n",
       "      <th>Vb</th>\n",
       "      <th>Vc</th>\n",
       "    </tr>\n",
       "  </thead>\n",
       "  <tbody>\n",
       "    <tr>\n",
       "      <th>min</th>\n",
       "      <td>0</td>\n",
       "      <td>0</td>\n",
       "      <td>0</td>\n",
       "      <td>0</td>\n",
       "      <td>-883.542316</td>\n",
       "      <td>-900.526951</td>\n",
       "      <td>-883.357762</td>\n",
       "      <td>-0.620748</td>\n",
       "      <td>-0.608016</td>\n",
       "      <td>-0.612709</td>\n",
       "    </tr>\n",
       "    <tr>\n",
       "      <th>max</th>\n",
       "      <td>1</td>\n",
       "      <td>1</td>\n",
       "      <td>1</td>\n",
       "      <td>1</td>\n",
       "      <td>885.738571</td>\n",
       "      <td>889.868884</td>\n",
       "      <td>901.274261</td>\n",
       "      <td>0.595342</td>\n",
       "      <td>0.627875</td>\n",
       "      <td>0.600179</td>\n",
       "    </tr>\n",
       "  </tbody>\n",
       "</table>\n",
       "</div>"
      ],
      "text/plain": [
       "     G  C  B  A          Ia          Ib          Ic        Va        Vb  \\\n",
       "min  0  0  0  0 -883.542316 -900.526951 -883.357762 -0.620748 -0.608016   \n",
       "max  1  1  1  1  885.738571  889.868884  901.274261  0.595342  0.627875   \n",
       "\n",
       "           Vc  \n",
       "min -0.612709  \n",
       "max  0.600179  "
      ]
     },
     "execution_count": 80,
     "metadata": {},
     "output_type": "execute_result"
    }
   ],
   "source": [
    "# Obtener columnas numéricas\n",
    "numeric_cols = df.select_dtypes(include=[\"number\"]).columns\n",
    "\n",
    "# Calcular y mostrar rangos\n",
    "ranges = df[numeric_cols].agg([\"min\", \"max\"])\n",
    "ranges"
   ]
  },
  {
   "cell_type": "markdown",
   "metadata": {},
   "source": [
    "Notando que nuestro conjunto de entrenamiento (y por ende de entrada) varía por cada columna uniformemente en aproximadamente 2 veces su valor. Y que existe tanto valores muy grandes como valores muy pequeños, por lo que ésto nos dice que debe de existir una normalización con la finalidad de facilitar el entrenamiento y no haya problemas de desvanecimiento en el descenso por el gradiente."
   ]
  },
  {
   "cell_type": "markdown",
   "metadata": {},
   "source": [
    "# Matriz de Correlación"
   ]
  },
  {
   "cell_type": "code",
   "execution_count": 81,
   "metadata": {},
   "outputs": [
    {
     "name": "stdout",
     "output_type": "stream",
     "text": [
      "Cantidad de columnas numéricas: 10\n"
     ]
    },
    {
     "data": {
      "text/html": [
       "<div>\n",
       "<style scoped>\n",
       "    .dataframe tbody tr th:only-of-type {\n",
       "        vertical-align: middle;\n",
       "    }\n",
       "\n",
       "    .dataframe tbody tr th {\n",
       "        vertical-align: top;\n",
       "    }\n",
       "\n",
       "    .dataframe thead th {\n",
       "        text-align: right;\n",
       "    }\n",
       "</style>\n",
       "<table border=\"1\" class=\"dataframe\">\n",
       "  <thead>\n",
       "    <tr style=\"text-align: right;\">\n",
       "      <th></th>\n",
       "      <th>G</th>\n",
       "      <th>C</th>\n",
       "      <th>B</th>\n",
       "      <th>A</th>\n",
       "      <th>Ia</th>\n",
       "      <th>Ib</th>\n",
       "      <th>Ic</th>\n",
       "      <th>Va</th>\n",
       "      <th>Vb</th>\n",
       "      <th>Vc</th>\n",
       "    </tr>\n",
       "  </thead>\n",
       "  <tbody>\n",
       "    <tr>\n",
       "      <th>G</th>\n",
       "      <td>1.000000</td>\n",
       "      <td>-0.137611</td>\n",
       "      <td>0.196609</td>\n",
       "      <td>0.755273</td>\n",
       "      <td>0.041310</td>\n",
       "      <td>-0.031068</td>\n",
       "      <td>-0.003156</td>\n",
       "      <td>0.023808</td>\n",
       "      <td>-0.024048</td>\n",
       "      <td>0.002122</td>\n",
       "    </tr>\n",
       "    <tr>\n",
       "      <th>C</th>\n",
       "      <td>-0.137611</td>\n",
       "      <td>1.000000</td>\n",
       "      <td>0.747612</td>\n",
       "      <td>0.199335</td>\n",
       "      <td>0.000232</td>\n",
       "      <td>-0.109211</td>\n",
       "      <td>0.164323</td>\n",
       "      <td>0.018188</td>\n",
       "      <td>-0.068840</td>\n",
       "      <td>0.052998</td>\n",
       "    </tr>\n",
       "    <tr>\n",
       "      <th>B</th>\n",
       "      <td>0.196609</td>\n",
       "      <td>0.747612</td>\n",
       "      <td>1.000000</td>\n",
       "      <td>0.448807</td>\n",
       "      <td>0.014102</td>\n",
       "      <td>-0.139981</td>\n",
       "      <td>0.133321</td>\n",
       "      <td>0.037128</td>\n",
       "      <td>-0.075973</td>\n",
       "      <td>0.042473</td>\n",
       "    </tr>\n",
       "    <tr>\n",
       "      <th>A</th>\n",
       "      <td>0.755273</td>\n",
       "      <td>0.199335</td>\n",
       "      <td>0.448807</td>\n",
       "      <td>1.000000</td>\n",
       "      <td>0.036341</td>\n",
       "      <td>-0.074905</td>\n",
       "      <td>0.054071</td>\n",
       "      <td>0.029940</td>\n",
       "      <td>-0.053036</td>\n",
       "      <td>0.025873</td>\n",
       "    </tr>\n",
       "    <tr>\n",
       "      <th>Ia</th>\n",
       "      <td>0.041310</td>\n",
       "      <td>0.000232</td>\n",
       "      <td>0.014102</td>\n",
       "      <td>0.036341</td>\n",
       "      <td>1.000000</td>\n",
       "      <td>-0.374241</td>\n",
       "      <td>-0.276457</td>\n",
       "      <td>0.035682</td>\n",
       "      <td>-0.274612</td>\n",
       "      <td>0.246043</td>\n",
       "    </tr>\n",
       "    <tr>\n",
       "      <th>Ib</th>\n",
       "      <td>-0.031068</td>\n",
       "      <td>-0.109211</td>\n",
       "      <td>-0.139981</td>\n",
       "      <td>-0.074905</td>\n",
       "      <td>-0.374241</td>\n",
       "      <td>1.000000</td>\n",
       "      <td>-0.528291</td>\n",
       "      <td>0.029118</td>\n",
       "      <td>0.032101</td>\n",
       "      <td>-0.060023</td>\n",
       "    </tr>\n",
       "    <tr>\n",
       "      <th>Ic</th>\n",
       "      <td>-0.003156</td>\n",
       "      <td>0.164323</td>\n",
       "      <td>0.133321</td>\n",
       "      <td>0.054071</td>\n",
       "      <td>-0.276457</td>\n",
       "      <td>-0.528291</td>\n",
       "      <td>1.000000</td>\n",
       "      <td>-0.069137</td>\n",
       "      <td>-0.056967</td>\n",
       "      <td>0.122919</td>\n",
       "    </tr>\n",
       "    <tr>\n",
       "      <th>Va</th>\n",
       "      <td>0.023808</td>\n",
       "      <td>0.018188</td>\n",
       "      <td>0.037128</td>\n",
       "      <td>0.029940</td>\n",
       "      <td>0.035682</td>\n",
       "      <td>0.029118</td>\n",
       "      <td>-0.069137</td>\n",
       "      <td>1.000000</td>\n",
       "      <td>-0.480247</td>\n",
       "      <td>-0.450225</td>\n",
       "    </tr>\n",
       "    <tr>\n",
       "      <th>Vb</th>\n",
       "      <td>-0.024048</td>\n",
       "      <td>-0.068840</td>\n",
       "      <td>-0.075973</td>\n",
       "      <td>-0.053036</td>\n",
       "      <td>-0.274612</td>\n",
       "      <td>0.032101</td>\n",
       "      <td>-0.056967</td>\n",
       "      <td>-0.480247</td>\n",
       "      <td>1.000000</td>\n",
       "      <td>-0.566986</td>\n",
       "    </tr>\n",
       "    <tr>\n",
       "      <th>Vc</th>\n",
       "      <td>0.002122</td>\n",
       "      <td>0.052998</td>\n",
       "      <td>0.042473</td>\n",
       "      <td>0.025873</td>\n",
       "      <td>0.246043</td>\n",
       "      <td>-0.060023</td>\n",
       "      <td>0.122919</td>\n",
       "      <td>-0.450225</td>\n",
       "      <td>-0.566986</td>\n",
       "      <td>1.000000</td>\n",
       "    </tr>\n",
       "  </tbody>\n",
       "</table>\n",
       "</div>"
      ],
      "text/plain": [
       "           G         C         B         A        Ia        Ib        Ic  \\\n",
       "G   1.000000 -0.137611  0.196609  0.755273  0.041310 -0.031068 -0.003156   \n",
       "C  -0.137611  1.000000  0.747612  0.199335  0.000232 -0.109211  0.164323   \n",
       "B   0.196609  0.747612  1.000000  0.448807  0.014102 -0.139981  0.133321   \n",
       "A   0.755273  0.199335  0.448807  1.000000  0.036341 -0.074905  0.054071   \n",
       "Ia  0.041310  0.000232  0.014102  0.036341  1.000000 -0.374241 -0.276457   \n",
       "Ib -0.031068 -0.109211 -0.139981 -0.074905 -0.374241  1.000000 -0.528291   \n",
       "Ic -0.003156  0.164323  0.133321  0.054071 -0.276457 -0.528291  1.000000   \n",
       "Va  0.023808  0.018188  0.037128  0.029940  0.035682  0.029118 -0.069137   \n",
       "Vb -0.024048 -0.068840 -0.075973 -0.053036 -0.274612  0.032101 -0.056967   \n",
       "Vc  0.002122  0.052998  0.042473  0.025873  0.246043 -0.060023  0.122919   \n",
       "\n",
       "          Va        Vb        Vc  \n",
       "G   0.023808 -0.024048  0.002122  \n",
       "C   0.018188 -0.068840  0.052998  \n",
       "B   0.037128 -0.075973  0.042473  \n",
       "A   0.029940 -0.053036  0.025873  \n",
       "Ia  0.035682 -0.274612  0.246043  \n",
       "Ib  0.029118  0.032101 -0.060023  \n",
       "Ic -0.069137 -0.056967  0.122919  \n",
       "Va  1.000000 -0.480247 -0.450225  \n",
       "Vb -0.480247  1.000000 -0.566986  \n",
       "Vc -0.450225 -0.566986  1.000000  "
      ]
     },
     "execution_count": 81,
     "metadata": {},
     "output_type": "execute_result"
    }
   ],
   "source": [
    "# Obtener columnas categóricas, para saber cuales quitar\n",
    "categorical_cols = df.select_dtypes(include=[\"object\"]).columns\n",
    "\n",
    "# Quedarse con las columnas numéricas solamente, pero no asignar a df\n",
    "# La variable numeric_cols la obtuvimos en un paso anterior.\n",
    "df_numeric = df[numeric_cols]\n",
    "\n",
    "# Imprimir la cantidad de columnas numéricas\n",
    "print(f\"Cantidad de columnas numéricas: {df_numeric.shape[1]}\")\n",
    "\n",
    "# Matriz de correlación usando pandas\n",
    "correlation_matrix = df_numeric.corr()\n",
    "# Mostrar matriz de correlación\n",
    "correlation_matrix"
   ]
  },
  {
   "cell_type": "markdown",
   "metadata": {},
   "source": [
    "Representada visualmente\n"
   ]
  },
  {
   "cell_type": "code",
   "execution_count": 82,
   "metadata": {},
   "outputs": [
    {
     "data": {
      "text/plain": [
       "<Axes: title={'center': 'Matriz de Correlación'}>"
      ]
     },
     "execution_count": 82,
     "metadata": {},
     "output_type": "execute_result"
    },
    {
     "data": {
      "image/png": "[encoded data removed]",
      "text/plain": [
       "<Figure size 1200x1000 with 2 Axes>"
      ]
     },
     "metadata": {},
     "output_type": "display_data"
    }
   ],
   "source": [
    "# Visualización de la matriz de correlación\n",
    "plt.figure(figsize=(12, 10))\n",
    "plt.title(\"Matriz de Correlación\")\n",
    "# Add heatmap with grid\n",
    "sns.heatmap(\n",
    "    correlation_matrix,  # Matriz de correlación\n",
    "    cmap=\"RdBu\",  # Color con gradiente de rojo a azul\n",
    "    annot=False,  # No mostrar valores en las celdas, se puede cambiar a True\n",
    "    square=True,  # Hacer los cuadrados iguales\n",
    "    linecolor=\"white\",  # Color de las líneas que separan las celdas\n",
    "    linewidths=0.5,  # Grosor de las líneas que separan las celdas\n",
    ")"
   ]
  },
  {
   "cell_type": "markdown",
   "metadata": {},
   "source": [
    "# Transformando el resultado a One Hot "
   ]
  },
  {
   "cell_type": "code",
   "execution_count": 84,
   "metadata": {},
   "outputs": [
    {
     "name": "stdout",
     "output_type": "stream",
     "text": [
      "0       1\n",
      "1       1\n",
      "2       1\n",
      "3       1\n",
      "4       1\n",
      "       ..\n",
      "7856    0\n",
      "7857    0\n",
      "7858    0\n",
      "7859    0\n",
      "7860    0\n",
      "Length: 7861, dtype: int64\n"
     ]
    }
   ],
   "source": [
    "def tranform_output(row):\n",
    "    G, C, B, A = row['G'], row['C'], row['B'], row['A']\n",
    "    if (G, C, B, A) == (0, 0, 0, 0): \n",
    "        return 0\n",
    "    elif (G, C, B, A) == (1, 0, 0, 1): \n",
    "        return 1\n",
    "    elif (G, C, B, A) == (0, 0, 1, 1): \n",
    "        return 2\n",
    "    elif (G, C, B, A) == (1, 0, 1, 1): \n",
    "        return 3\n",
    "    elif (G, C, B, A) == (0, 1, 1, 1): \n",
    "        return 4\n",
    "    elif (G, C, B, A) == (1, 1, 1, 1):\n",
    "        return 5\n",
    "    elif (G,C,B,A) == (0,1,1,0):\n",
    "        return 6\n",
    "    \n",
    "    \n",
    "output = df.apply(tranform_output, axis=1)\n",
    "\n",
    "input  = df.iloc[:, -7:-1]\n",
    "\n",
    "\n",
    "\n",
    "\n",
    "    \n"
   ]
  },
  {
   "cell_type": "markdown",
   "metadata": {},
   "source": [
    "# Arquitectura de la Red Neuronal\n",
    "Sin One Hot encoding"
   ]
  },
  {
   "cell_type": "code",
   "execution_count": 9,
   "metadata": {},
   "outputs": [
    {
     "name": "stdout",
     "output_type": "stream",
     "text": [
      "(7861, 4)\n",
      "(7861, 6)\n"
     ]
    }
   ],
   "source": [
    "output_wo_oh =  df.iloc[:, :4]\n",
    "input_wo_oh =  df.iloc[:,-6 :]\n",
    "\n",
    "print(output_wo_oh.shape)\n",
    "print(input_wo_oh.shape)"
   ]
  },
  {
   "cell_type": "code",
   "execution_count": 10,
   "metadata": {},
   "outputs": [],
   "source": [
    "from ipywidgets import interact, interactive, fixed, interact_manual\n",
    "import ipywidgets as widgets\n",
    "from IPython.display import display\n",
    "import torch\n",
    "from torch.autograd import Variable\n",
    "import torch.nn as nn\n",
    "import torch.optim as optim\n",
    "#Definimos el dispositivo que se usará.\n",
    "device = torch.device('cpu')\n",
    "import numpy as np\n",
    "from sklearn.model_selection import train_test_split\n",
    "import pandas as pd\n",
    "from sklearn.metrics import confusion_matrix\n",
    "from sklearn.preprocessing import OneHotEncoder\n",
    "import seaborn as sns"
   ]
  },
  {
   "cell_type": "code",
   "execution_count": 11,
   "metadata": {},
   "outputs": [],
   "source": [
    "class Electrical_nn (nn.Module):\n",
    "     def __init__(self,input_size,hidden,output_size):\n",
    "        '''\n",
    "        Constructor con las caracteristicas de una red completamente conectada \n",
    "        de tres capas, recibe la cantidad de elementos de entrada, el \n",
    "        número de capas ocultas y el número de elementos de salida. \n",
    "        Entre cada capa agrega una función de activación logistica.\n",
    "        '''\n",
    "        super(Electrical_nn,self).__init__()\n",
    "        self.input_layer = nn.Linear(input_size, hidden)\n",
    "        self.output_layer = nn.Linear(hidden, output_size)\n",
    "        self.activation = nn.Sigmoid()\n",
    "        self.hist = []\n",
    "        \n",
    "     def feed_forward(self,x):\n",
    "        '''\n",
    "        Propagacion hacia adelante\n",
    "        '''\n",
    "        x = self.input_layer(x)\n",
    "        x = self.activation(x)\n",
    "        x = self.output_layer(x)\n",
    "        x = self.activation(x)\n",
    "        return x\n",
    "     \n",
    "     def train(self, X, Y, optimizer, steps, loss_func):\n",
    "        '''\n",
    "        Función de entrenamiento ya cuenta con el backpropagate. Se usa loss_func como parámetro para probar con las distintas funciones\n",
    "        de pérdida\n",
    "        '''     \n",
    "        for step in range(steps):\n",
    "            optimizer.zero_grad()\n",
    "            output = self.forward(X)\n",
    "            loss = loss_func(output, Y)\n",
    "            loss.backward()\n",
    "            optimizer.step()\n",
    "\n",
    "            self.hist.append(loss.item())\n",
    "            \n",
    "        plt.plot(self.hist)\n",
    "        plt.title(\"Progreso error\")\n",
    "        plt.xlabel(\"ciclo\")\n",
    "        plt.ylabel(\"error\")\n",
    "        plt.show()\n",
    "      "
   ]
  },
  {
   "cell_type": "markdown",
   "metadata": {},
   "source": [
    "# Matriz de Confusión"
   ]
  },
  {
   "cell_type": "code",
   "execution_count": null,
   "metadata": {},
   "outputs": [],
   "source": [
    "def plot_confusion_matrix(labels, preds, classes, type_of_set):\n",
    "    cm = confusion_matrix(labels, preds)\n",
    "    plt.figure(figsize=(10, 7))\n",
    "    sns.heatmap(cm, annot=True, fmt=\"d\", cmap='Blues', xticklabels=classes, yticklabels=classes)\n",
    "    plt.xlabel('Predicted')\n",
    "    plt.ylabel('True')\n",
    "    plt.title(\"Confusion Matrix on {typeSet}\".format(typeSet = type_of_set))\n",
    "    plt.show()"
   ]
  }
 ],
 "metadata": {
  "kernelspec": {
   "display_name": "Python 3",
   "language": "python",
   "name": "python3"
  },
  "language_info": {
   "codemirror_mode": {
    "name": "ipython",
    "version": 3
   },
   "file_extension": ".py",
   "mimetype": "text/x-python",
   "name": "python",
   "nbconvert_exporter": "python",
   "pygments_lexer": "ipython3",
   "version": "3.12.2"
  }
 },
 "nbformat": 4,
 "nbformat_minor": 2
}
